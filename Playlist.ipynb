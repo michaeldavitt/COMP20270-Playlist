{
 "cells": [
  {
   "cell_type": "markdown",
   "metadata": {},
   "source": [
    "# Import Modules"
   ]
  },
  {
   "cell_type": "code",
   "execution_count": 1,
   "metadata": {},
   "outputs": [],
   "source": [
    "import os\n",
    "import random"
   ]
  },
  {
   "cell_type": "markdown",
   "metadata": {},
   "source": [
    "# Create Classes"
   ]
  },
  {
   "cell_type": "code",
   "execution_count": 2,
   "metadata": {},
   "outputs": [],
   "source": [
    "class FullTrackList():\n",
    "    def __init__(self, filename):\n",
    "        self.filename(filename)\n",
    "        \n",
    "    def filename(self, filename):\n",
    "        \"\"\"Setter used to set the filename and validate it, also gets tracks from the file and puts them into a list\"\"\"\n",
    "\n",
    "        # Tests if the CSV file supplied is valid and exists\n",
    "        if type(filename) == str and filename.endswith(\".csv\") and os.path.isfile(filename):\n",
    "            self._filename = filename\n",
    "            self._tracks = []\n",
    "            read_csv = open(self._filename, \"r\")\n",
    "            for line in read_csv.readlines():\n",
    "                split_line = line.split(\",\")\n",
    "                self._tracks.append(Track(id=split_line[0], artist=split_line[1], title=split_line[2], time=TimeMS(split_line[3])))\n",
    "            read_csv.close()\n",
    "\n",
    "        else:\n",
    "            raise TypeError(\"Error, invalid file selected\")\n",
    "        \n",
    "        \n",
    "    def get_filename(self):\n",
    "        \"\"\"Getter, used to get the filename\"\"\"\n",
    "        return self._filename\n",
    "\n",
    "\n",
    "    def get_tracks(self):\n",
    "        \"\"\"Getter, used to get the list of tracks in the tracklist\"\"\"\n",
    "        return self._tracks\n",
    "\n",
    "\n",
    "\n",
    "class Playlist():\n",
    "    def __init__(self, track_ids, tracklist):\n",
    "        self._track_ids = track_ids\n",
    "        self.tracks = []\n",
    "        self._tracklist = tracklist\n",
    "        self._time = 0\n",
    "        for track in self._tracklist.get_tracks():\n",
    "            if track.id in self._track_ids:\n",
    "                self.tracks.append(track)\n",
    "                self._time += int(track.time.in_seconds())\n",
    "\n",
    "\n",
    "    def show_playlist(self):\n",
    "        print(\"Playing Time:\", TimeMS(str(self._time)).in_minutes())\n",
    "        for track in self.tracks:\n",
    "            print(\"\\t\" + str(track.id) + \"\\t\" + str(track.artist) + \":\", track.title)\n",
    "\n",
    "\n",
    "    def add_track(self, track_id):\n",
    "        for track in self._tracklist.get_tracks():\n",
    "            if track.id == track_id:\n",
    "                self.tracks.append(track)\n",
    "                self._time += int(track.time.in_seconds())\n",
    "\n",
    "\n",
    "    def remove_track(self, track_id):\n",
    "        for track in self.tracks:\n",
    "            if track.id == track_id:\n",
    "                self.tracks.remove(track)\n",
    "                self._time -= int(track.time.in_seconds())\n",
    "\n",
    "\n",
    "    def shuffle_playlist(self):\n",
    "        # using Fisher–Yates shuffle Algorithm\n",
    "        # to shuffle a list\n",
    "        for i in range(len(self.tracks)-1, 0, -1):\n",
    "            \n",
    "            # Pick a random index from 0 to i\n",
    "            j = random.randint(0, i)\n",
    "        \n",
    "            # Swap arr[i] with the element at random index\n",
    "            self.tracks[i], self.tracks[j] = self.tracks[j], self.tracks[i]\n",
    "\n",
    "\n",
    "    def sort_playlist(self):\n",
    "        self.tracks.sort(key=lambda x: (x.artist, x.title))\n",
    "\n",
    "\n",
    "\n",
    "\n",
    "\n",
    "class Track():\n",
    "    def __init__(self, id, artist, title, time):\n",
    "        self.id = id\n",
    "        self.artist = artist\n",
    "        self.title = title\n",
    "        self.time = time\n",
    "\n",
    "\n",
    "class TimeMS():\n",
    "    def __init__(self, time):\n",
    "        if \":\" in time:\n",
    "            self.min_to_sec(time)\n",
    "        \n",
    "        else:\n",
    "            self.sec_to_min(time)\n",
    "\n",
    "\n",
    "    def min_to_sec(self, time):\n",
    "        self._full_mins = time\n",
    "        self._full_mins_split = time.split(\":\")\n",
    "        self._min_split, self._sec_split = self._full_mins_split[0], self._full_mins_split[1]\n",
    "        self._full_seconds = (int(self._min_split) * 60) + int(self._sec_split)\n",
    "\n",
    "    def sec_to_min(self, time):\n",
    "        self._full_seconds = time\n",
    "        self._sec_split = int(self._full_seconds)\n",
    "        self._min_split = 0\n",
    "        while self._sec_split > 60:\n",
    "            self._sec_split -= 60\n",
    "            self._min_split += 1\n",
    "\n",
    "        if len(str(self._sec_split)) == 1:\n",
    "            self._sec_split = \"0\" + str(self._sec_split)\n",
    "            \n",
    "        else:\n",
    "            self._sec_split = str(self._sec_split)\n",
    "\n",
    "        self._full_mins = str(self._min_split) + \":\" + self._sec_split\n",
    "\n",
    "    def in_seconds(self):\n",
    "        return self._full_seconds\n",
    "\n",
    "    def in_minutes(self):\n",
    "        return self._full_mins\n",
    "\n"
   ]
  },
  {
   "cell_type": "markdown",
   "metadata": {},
   "source": [
    "# Testing"
   ]
  },
  {
   "cell_type": "code",
   "execution_count": 3,
   "metadata": {},
   "outputs": [
    {
     "name": "stdout",
     "output_type": "stream",
     "text": [
      "music.csv\n"
     ]
    }
   ],
   "source": [
    "tlist = FullTrackList(\"music.csv\")\n",
    "print(tlist.get_filename())"
   ]
  },
  {
   "cell_type": "code",
   "execution_count": 4,
   "metadata": {},
   "outputs": [
    {
     "name": "stdout",
     "output_type": "stream",
     "text": [
      "Playing Time: 11:50\n",
      "\t1\tTaylor Swift: Everything Has Changed\n",
      "\t2\tMumford and Sons: Little Lion Man\n",
      "\t3\tHozier: Sedated\n"
     ]
    }
   ],
   "source": [
    "pl = Playlist([\"1\", \"2\", \"3\"], tlist)\n",
    "pl.show_playlist()"
   ]
  },
  {
   "cell_type": "code",
   "execution_count": 5,
   "metadata": {},
   "outputs": [
    {
     "name": "stdout",
     "output_type": "stream",
     "text": [
      "Playing Time: 22:05\n",
      "\t1\tTaylor Swift: Everything Has Changed\n",
      "\t2\tMumford and Sons: Little Lion Man\n",
      "\t3\tHozier: Sedated\n",
      "\t7\tHozier: Jackie and Wilson\n",
      "\t8\tHozier: Take Me To Church\n",
      "\t12\tMiley Cyrus: Jolene\n"
     ]
    }
   ],
   "source": [
    "pl.add_track(\"7\")\n",
    "pl.add_track(\"8\")\n",
    "pl.add_track(\"12\")\n",
    "pl.show_playlist()"
   ]
  },
  {
   "cell_type": "code",
   "execution_count": 6,
   "metadata": {},
   "outputs": [
    {
     "name": "stdout",
     "output_type": "stream",
     "text": [
      "Playing Time: 21:37\n",
      "\t8\tHozier: Take Me To Church\n",
      "\t3\tHozier: Sedated\n",
      "\t13\tFlorence + The Machine: Dog Days are Over\n",
      "\t2\tMumford and Sons: Little Lion Man\n",
      "\t7\tHozier: Jackie and Wilson\n",
      "\t12\tMiley Cyrus: Jolene\n"
     ]
    }
   ],
   "source": [
    "pl.add_track(\"13\")\n",
    "pl.remove_track(\"1\")\n",
    "pl.shuffle_playlist()\n",
    "pl.show_playlist()"
   ]
  },
  {
   "cell_type": "code",
   "execution_count": 7,
   "metadata": {},
   "outputs": [
    {
     "name": "stdout",
     "output_type": "stream",
     "text": [
      "Playing Time: 21:37\n",
      "\t13\tFlorence + The Machine: Dog Days are Over\n",
      "\t7\tHozier: Jackie and Wilson\n",
      "\t3\tHozier: Sedated\n",
      "\t8\tHozier: Take Me To Church\n",
      "\t12\tMiley Cyrus: Jolene\n",
      "\t2\tMumford and Sons: Little Lion Man\n"
     ]
    }
   ],
   "source": [
    "pl.sort_playlist()\n",
    "pl.show_playlist()"
   ]
  }
 ],
 "metadata": {
  "interpreter": {
   "hash": "54e72497fd64358f52832107e3cdfaf9f975ee2964d8f26ed128ba56fc24de73"
  },
  "kernelspec": {
   "display_name": "Python 3.8.8 64-bit ('base': conda)",
   "language": "python",
   "name": "python3"
  },
  "language_info": {
   "codemirror_mode": {
    "name": "ipython",
    "version": 3
   },
   "file_extension": ".py",
   "mimetype": "text/x-python",
   "name": "python",
   "nbconvert_exporter": "python",
   "pygments_lexer": "ipython3",
   "version": "3.10.0"
  },
  "orig_nbformat": 4
 },
 "nbformat": 4,
 "nbformat_minor": 2
}

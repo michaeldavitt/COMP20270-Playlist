{
 "cells": [
  {
   "cell_type": "markdown",
   "metadata": {},
   "source": [
    "# Import Modules"
   ]
  },
  {
   "cell_type": "code",
   "execution_count": 38,
   "metadata": {},
   "outputs": [],
   "source": [
    "import os\n",
    "import random"
   ]
  },
  {
   "cell_type": "markdown",
   "metadata": {},
   "source": [
    "# Create Classes"
   ]
  },
  {
   "cell_type": "code",
   "execution_count": 39,
   "metadata": {},
   "outputs": [],
   "source": [
    "class FullTrackList():\n",
    "    def __init__(self, filename):\n",
    "        self.filename(filename)\n",
    "        \n",
    "    def filename(self, filename):\n",
    "        \"\"\"Setter used to set the filename and validate it, also gets tracks from the file and puts them into a list\"\"\"\n",
    "\n",
    "        # Tests if the CSV file supplied is valid and exists\n",
    "        if type(filename) == str and filename.endswith(\".csv\") and os.path.isfile(filename):\n",
    "            self._filename = filename\n",
    "            self._tracks = []\n",
    "            with open(self._filename, \"r\") as fh:\n",
    "                for line in fh.readlines():\n",
    "                    split_line = line.split(\",\")\n",
    "                    self._tracks.append(Track(id=split_line[0], artist=split_line[1], title=split_line[2], time=TimeMS(split_line[3])))\n",
    "            \n",
    "        else:\n",
    "            raise TypeError(\"Error, invalid file selected\")\n",
    "        \n",
    "    def get_filename(self):\n",
    "        \"\"\"Getter, used to get the filename\"\"\"\n",
    "        return self._filename\n",
    "\n",
    "    def get_tracks(self):\n",
    "        \"\"\"Getter, used to get the list of tracks in the tracklist\"\"\"\n",
    "        return self._tracks\n",
    "\n",
    "\n",
    "class Playlist():\n",
    "    def __init__(self, track_ids, tracklist):\n",
    "        self._track_ids = track_ids\n",
    "        self.tracks = []\n",
    "        self._tracklist = tracklist\n",
    "        self._time = 0\n",
    "        for track in self._tracklist.get_tracks():\n",
    "            if track.id in self._track_ids:\n",
    "                self.tracks.append(track)\n",
    "                self._time += int(track.time.in_seconds())\n",
    "\n",
    "    def show_playlist(self):\n",
    "        # Create a Time object using self._time, which is the total time in seconds for each track\n",
    "        # Then, represent this Time object in minutes to get the total track time in minutes\n",
    "        print(\"Playing Time:\", TimeMS(str(self._time)).in_minutes())\n",
    "        for track in self.tracks:\n",
    "            print(\"\\t\" + str(track.id) + \"\\t\" + str(track.artist) + \":\", track.title)\n",
    "\n",
    "    def add_track(self, track_id):\n",
    "        for track in self._tracklist.get_tracks():\n",
    "            if track.id == track_id:\n",
    "                self.tracks.append(track)\n",
    "                self._time += int(track.time.in_seconds())\n",
    "\n",
    "    def remove_track(self, track_id):\n",
    "        for track in self.tracks:\n",
    "            if track.id == track_id:\n",
    "                self.tracks.remove(track)\n",
    "                self._time -= int(track.time.in_seconds())\n",
    "\n",
    "    def shuffle_playlist(self):\n",
    "        # using Fisher–Yates shuffle Algorithm to shuffle a list\n",
    "        for i in range(len(self.tracks)-1, 0, -1):\n",
    "            \n",
    "            # Pick a random index from 0 to i\n",
    "            j = random.randint(0, i)\n",
    "        \n",
    "            # Swap arr[i] with the element at random index\n",
    "            self.tracks[i], self.tracks[j] = self.tracks[j], self.tracks[i]\n",
    "\n",
    "\n",
    "    def sort_playlist(self):\n",
    "        self.tracks.sort(key=lambda x: (x.artist, x.title))\n",
    "\n",
    "\n",
    "class Track():\n",
    "    def __init__(self, id, artist, title, time):\n",
    "        self.id = id\n",
    "        self.artist = artist\n",
    "        self.title = title\n",
    "        self.time = time\n",
    "\n",
    "\n",
    "class TimeMS():\n",
    "    def __init__(self, time):\n",
    "        if \":\" in time:\n",
    "            self.min_to_sec(time)\n",
    "        \n",
    "        else:\n",
    "            self.sec_to_min(time)\n",
    "\n",
    "    def min_to_sec(self, time):\n",
    "        self._full_mins = time\n",
    "        self._full_mins_split = time.split(\":\")\n",
    "        self._min_split, self._sec_split = self._full_mins_split[0], self._full_mins_split[1]\n",
    "        self._full_seconds = (int(self._min_split) * 60) + int(self._sec_split)\n",
    "\n",
    "    def sec_to_min(self, time):\n",
    "        self._full_seconds = time\n",
    "        self._sec_split = int(self._full_seconds)\n",
    "        self._min_split = 0\n",
    "        while self._sec_split > 60:\n",
    "            self._sec_split -= 60\n",
    "            self._min_split += 1\n",
    "\n",
    "        if len(str(self._sec_split)) == 1:\n",
    "            self._sec_split = \"0\" + str(self._sec_split)\n",
    "            \n",
    "        else:\n",
    "            self._sec_split = str(self._sec_split)\n",
    "\n",
    "        self._full_mins = str(self._min_split) + \":\" + self._sec_split\n",
    "\n",
    "    def in_seconds(self):\n",
    "        return self._full_seconds\n",
    "\n",
    "    def in_minutes(self):\n",
    "        return self._full_mins\n",
    "\n"
   ]
  },
  {
   "cell_type": "markdown",
   "metadata": {},
   "source": [
    "# Testing"
   ]
  },
  {
   "cell_type": "code",
   "execution_count": 40,
   "metadata": {},
   "outputs": [
    {
     "name": "stdout",
     "output_type": "stream",
     "text": [
      "music.csv\n"
     ]
    }
   ],
   "source": [
    "tlist = FullTrackList(\"music.csv\")\n",
    "print(tlist.get_filename())"
   ]
  },
  {
   "cell_type": "code",
   "execution_count": 41,
   "metadata": {},
   "outputs": [
    {
     "name": "stdout",
     "output_type": "stream",
     "text": [
      "Playing Time: 11:50\n",
      "\t1\tTaylor Swift: Everything Has Changed\n",
      "\t2\tMumford and Sons: Little Lion Man\n",
      "\t3\tHozier: Sedated\n"
     ]
    }
   ],
   "source": [
    "pl = Playlist([\"1\", \"2\", \"3\"], tlist)\n",
    "pl.show_playlist()"
   ]
  },
  {
   "cell_type": "code",
   "execution_count": 42,
   "metadata": {},
   "outputs": [
    {
     "name": "stdout",
     "output_type": "stream",
     "text": [
      "Playing Time: 22:05\n",
      "\t1\tTaylor Swift: Everything Has Changed\n",
      "\t2\tMumford and Sons: Little Lion Man\n",
      "\t3\tHozier: Sedated\n",
      "\t7\tHozier: Jackie and Wilson\n",
      "\t8\tHozier: Take Me To Church\n",
      "\t12\tMiley Cyrus: Jolene\n"
     ]
    }
   ],
   "source": [
    "pl.add_track(\"7\")\n",
    "pl.add_track(\"8\")\n",
    "pl.add_track(\"12\")\n",
    "pl.show_playlist()"
   ]
  },
  {
   "cell_type": "code",
   "execution_count": 43,
   "metadata": {},
   "outputs": [
    {
     "name": "stdout",
     "output_type": "stream",
     "text": [
      "Playing Time: 21:37\n",
      "\t8\tHozier: Take Me To Church\n",
      "\t12\tMiley Cyrus: Jolene\n",
      "\t7\tHozier: Jackie and Wilson\n",
      "\t13\tFlorence + The Machine: Dog Days are Over\n",
      "\t2\tMumford and Sons: Little Lion Man\n",
      "\t3\tHozier: Sedated\n"
     ]
    }
   ],
   "source": [
    "pl.add_track(\"13\")\n",
    "pl.remove_track(\"1\")\n",
    "pl.shuffle_playlist()\n",
    "pl.show_playlist()"
   ]
  },
  {
   "cell_type": "code",
   "execution_count": 44,
   "metadata": {},
   "outputs": [
    {
     "name": "stdout",
     "output_type": "stream",
     "text": [
      "Playing Time: 21:37\n",
      "\t13\tFlorence + The Machine: Dog Days are Over\n",
      "\t7\tHozier: Jackie and Wilson\n",
      "\t3\tHozier: Sedated\n",
      "\t8\tHozier: Take Me To Church\n",
      "\t12\tMiley Cyrus: Jolene\n",
      "\t2\tMumford and Sons: Little Lion Man\n"
     ]
    }
   ],
   "source": [
    "pl.sort_playlist()\n",
    "pl.show_playlist()"
   ]
  },
  {
   "cell_type": "code",
   "execution_count": 45,
   "metadata": {},
   "outputs": [
    {
     "name": "stdout",
     "output_type": "stream",
     "text": [
      "Playing Time: 21:37\n",
      "\t13\tFlorence + The Machine: Dog Days are Over\n",
      "\t7\tHozier: Jackie and Wilson\n",
      "\t3\tHozier: Sedated\n",
      "\t8\tHozier: Take Me To Church\n",
      "\t12\tMiley Cyrus: Jolene\n",
      "\t2\tMumford and Sons: Little Lion Man\n"
     ]
    },
    {
     "ename": "TypeError",
     "evalue": "__repr__ returned non-string (type NoneType)",
     "output_type": "error",
     "traceback": [
      "\u001b[1;31m---------------------------------------------------------------------------\u001b[0m",
      "\u001b[1;31mTypeError\u001b[0m                                 Traceback (most recent call last)",
      "\u001b[1;32mC:\\Python310\\lib\\site-packages\\IPython\\core\\formatters.py\u001b[0m in \u001b[0;36m__call__\u001b[1;34m(self, obj)\u001b[0m\n\u001b[0;32m    700\u001b[0m                 \u001b[0mtype_pprinters\u001b[0m\u001b[1;33m=\u001b[0m\u001b[0mself\u001b[0m\u001b[1;33m.\u001b[0m\u001b[0mtype_printers\u001b[0m\u001b[1;33m,\u001b[0m\u001b[1;33m\u001b[0m\u001b[1;33m\u001b[0m\u001b[0m\n\u001b[0;32m    701\u001b[0m                 deferred_pprinters=self.deferred_printers)\n\u001b[1;32m--> 702\u001b[1;33m             \u001b[0mprinter\u001b[0m\u001b[1;33m.\u001b[0m\u001b[0mpretty\u001b[0m\u001b[1;33m(\u001b[0m\u001b[0mobj\u001b[0m\u001b[1;33m)\u001b[0m\u001b[1;33m\u001b[0m\u001b[1;33m\u001b[0m\u001b[0m\n\u001b[0m\u001b[0;32m    703\u001b[0m             \u001b[0mprinter\u001b[0m\u001b[1;33m.\u001b[0m\u001b[0mflush\u001b[0m\u001b[1;33m(\u001b[0m\u001b[1;33m)\u001b[0m\u001b[1;33m\u001b[0m\u001b[1;33m\u001b[0m\u001b[0m\n\u001b[0;32m    704\u001b[0m             \u001b[1;32mreturn\u001b[0m \u001b[0mstream\u001b[0m\u001b[1;33m.\u001b[0m\u001b[0mgetvalue\u001b[0m\u001b[1;33m(\u001b[0m\u001b[1;33m)\u001b[0m\u001b[1;33m\u001b[0m\u001b[1;33m\u001b[0m\u001b[0m\n",
      "\u001b[1;32mC:\\Python310\\lib\\site-packages\\IPython\\lib\\pretty.py\u001b[0m in \u001b[0;36mpretty\u001b[1;34m(self, obj)\u001b[0m\n\u001b[0;32m    392\u001b[0m                         \u001b[1;32mif\u001b[0m \u001b[0mcls\u001b[0m \u001b[1;32mis\u001b[0m \u001b[1;32mnot\u001b[0m \u001b[0mobject\u001b[0m\u001b[0;31m \u001b[0m\u001b[0;31m\\\u001b[0m\u001b[1;33m\u001b[0m\u001b[1;33m\u001b[0m\u001b[0m\n\u001b[0;32m    393\u001b[0m                                 \u001b[1;32mand\u001b[0m \u001b[0mcallable\u001b[0m\u001b[1;33m(\u001b[0m\u001b[0mcls\u001b[0m\u001b[1;33m.\u001b[0m\u001b[0m__dict__\u001b[0m\u001b[1;33m.\u001b[0m\u001b[0mget\u001b[0m\u001b[1;33m(\u001b[0m\u001b[1;34m'__repr__'\u001b[0m\u001b[1;33m)\u001b[0m\u001b[1;33m)\u001b[0m\u001b[1;33m:\u001b[0m\u001b[1;33m\u001b[0m\u001b[1;33m\u001b[0m\u001b[0m\n\u001b[1;32m--> 394\u001b[1;33m                             \u001b[1;32mreturn\u001b[0m \u001b[0m_repr_pprint\u001b[0m\u001b[1;33m(\u001b[0m\u001b[0mobj\u001b[0m\u001b[1;33m,\u001b[0m \u001b[0mself\u001b[0m\u001b[1;33m,\u001b[0m \u001b[0mcycle\u001b[0m\u001b[1;33m)\u001b[0m\u001b[1;33m\u001b[0m\u001b[1;33m\u001b[0m\u001b[0m\n\u001b[0m\u001b[0;32m    395\u001b[0m \u001b[1;33m\u001b[0m\u001b[0m\n\u001b[0;32m    396\u001b[0m             \u001b[1;32mreturn\u001b[0m \u001b[0m_default_pprint\u001b[0m\u001b[1;33m(\u001b[0m\u001b[0mobj\u001b[0m\u001b[1;33m,\u001b[0m \u001b[0mself\u001b[0m\u001b[1;33m,\u001b[0m \u001b[0mcycle\u001b[0m\u001b[1;33m)\u001b[0m\u001b[1;33m\u001b[0m\u001b[1;33m\u001b[0m\u001b[0m\n",
      "\u001b[1;32mC:\\Python310\\lib\\site-packages\\IPython\\lib\\pretty.py\u001b[0m in \u001b[0;36m_repr_pprint\u001b[1;34m(obj, p, cycle)\u001b[0m\n\u001b[0;32m    698\u001b[0m     \u001b[1;34m\"\"\"A pprint that just redirects to the normal repr function.\"\"\"\u001b[0m\u001b[1;33m\u001b[0m\u001b[1;33m\u001b[0m\u001b[0m\n\u001b[0;32m    699\u001b[0m     \u001b[1;31m# Find newlines and replace them with p.break_()\u001b[0m\u001b[1;33m\u001b[0m\u001b[1;33m\u001b[0m\u001b[0m\n\u001b[1;32m--> 700\u001b[1;33m     \u001b[0moutput\u001b[0m \u001b[1;33m=\u001b[0m \u001b[0mrepr\u001b[0m\u001b[1;33m(\u001b[0m\u001b[0mobj\u001b[0m\u001b[1;33m)\u001b[0m\u001b[1;33m\u001b[0m\u001b[1;33m\u001b[0m\u001b[0m\n\u001b[0m\u001b[0;32m    701\u001b[0m     \u001b[0mlines\u001b[0m \u001b[1;33m=\u001b[0m \u001b[0moutput\u001b[0m\u001b[1;33m.\u001b[0m\u001b[0msplitlines\u001b[0m\u001b[1;33m(\u001b[0m\u001b[1;33m)\u001b[0m\u001b[1;33m\u001b[0m\u001b[1;33m\u001b[0m\u001b[0m\n\u001b[0;32m    702\u001b[0m     \u001b[1;32mwith\u001b[0m \u001b[0mp\u001b[0m\u001b[1;33m.\u001b[0m\u001b[0mgroup\u001b[0m\u001b[1;33m(\u001b[0m\u001b[1;33m)\u001b[0m\u001b[1;33m:\u001b[0m\u001b[1;33m\u001b[0m\u001b[1;33m\u001b[0m\u001b[0m\n",
      "\u001b[1;31mTypeError\u001b[0m: __repr__ returned non-string (type NoneType)"
     ]
    }
   ],
   "source": [
    "pl"
   ]
  }
 ],
 "metadata": {
  "interpreter": {
   "hash": "54e72497fd64358f52832107e3cdfaf9f975ee2964d8f26ed128ba56fc24de73"
  },
  "kernelspec": {
   "display_name": "Python 3.8.8 64-bit ('base': conda)",
   "language": "python",
   "name": "python3"
  },
  "language_info": {
   "codemirror_mode": {
    "name": "ipython",
    "version": 3
   },
   "file_extension": ".py",
   "mimetype": "text/x-python",
   "name": "python",
   "nbconvert_exporter": "python",
   "pygments_lexer": "ipython3",
   "version": "3.10.0"
  },
  "orig_nbformat": 4
 },
 "nbformat": 4,
 "nbformat_minor": 2
}

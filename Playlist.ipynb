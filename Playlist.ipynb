{
 "cells": [
  {
   "cell_type": "markdown",
   "metadata": {},
   "source": [
    "# Import Modules"
   ]
  },
  {
   "cell_type": "code",
   "execution_count": 152,
   "metadata": {},
   "outputs": [],
   "source": [
    "import os\n",
    "import random"
   ]
  },
  {
   "cell_type": "markdown",
   "metadata": {},
   "source": [
    "# Create Classes"
   ]
  },
  {
   "cell_type": "code",
   "execution_count": 153,
   "metadata": {},
   "outputs": [],
   "source": [
    "class FullTrackList():\n",
    "    def __init__(self, filename):\n",
    "        self.filename(filename)\n",
    "        \n",
    "    def filename(self, filename):\n",
    "        \"\"\"Setter used to set the filename and validate it, also gets tracks from the file and puts them into a list\"\"\"\n",
    "\n",
    "        # Tests if the CSV file supplied is valid and exists\n",
    "        if type(filename) == str and filename.endswith(\".csv\") and os.path.isfile(filename):\n",
    "            self._filename = filename\n",
    "            self._tracks = []\n",
    "            with open(self._filename, \"r\") as fh:\n",
    "                for line in fh.readlines():\n",
    "                    split_line = line.split(\",\")\n",
    "                    self._tracks.append(Track(id=split_line[0], artist=split_line[1], title=split_line[2], time=TimeMS(split_line[3])))\n",
    "            \n",
    "        else:\n",
    "            raise TypeError(\"Error, invalid file selected\")\n",
    "        \n",
    "    def get_filename(self):\n",
    "        \"\"\"Getter, used to get the filename\"\"\"\n",
    "        return self._filename\n",
    "\n",
    "    def get_tracks(self):\n",
    "        \"\"\"Getter, used to get the list of tracks in the tracklist\"\"\"\n",
    "        return self._tracks\n",
    "\n",
    "\n",
    "class Playlist():\n",
    "    \"\"\"Class representing a user playlist\"\"\"\n",
    "    def __init__(self, track_ids, tracklist):\n",
    "        self._track_ids = track_ids\n",
    "\n",
    "        # Tracklist will be an object from FullTrackList Class\n",
    "        if isinstance(tracklist, FullTrackList):\n",
    "            self._tracklist = tracklist\n",
    "        \n",
    "        else:\n",
    "            raise TypeError(\"Error: Incorrect type for tracklist. Should be a member of the FullTrackList class\")\n",
    "            \n",
    "        # Initialise the time attribute = 0, add to this value as we add tracks\n",
    "        self._time = 0\n",
    "\n",
    "        # Tracks that correspond to the track IDs provided by the user will be added to the playlist\n",
    "        self.tracks = []\n",
    "        for track in self._tracklist.get_tracks():\n",
    "            if track.id in self._track_ids:\n",
    "                self.tracks.append(track)\n",
    "                self._time += int(track.time.in_seconds())\n",
    "\n",
    "    def show_playlist(self):\n",
    "        \"\"\"Shows each track in the playlist and the total playing time\"\"\"\n",
    "        # Create a Time object using self._time, which is the total time in seconds for each track\n",
    "        # Then, represent this Time object in minutes to get the total track time in minutes\n",
    "        print(\"Playing Time:\", TimeMS(str(self._time)))\n",
    "        for track in self.tracks:\n",
    "            print(\"\\t\" + str(track.id) + \"\\t\" + str(track.artist) + \":\", track.title)\n",
    "\n",
    "    def add_track(self, track_id):\n",
    "        \"\"\"Adds a track to the playlist based on the track ID provided by the user\n",
    "        \n",
    "        Adds nothing if the user provides an invalid track ID\n",
    "        \"\"\"\n",
    "        for track in self._tracklist.get_tracks():\n",
    "            if track.id == track_id:\n",
    "                self.tracks.append(track)\n",
    "                self._time += int(track.time.in_seconds())\n",
    "\n",
    "    def remove_track(self, track_id):\n",
    "        \"\"\"Removes a track from the playlist based on the track ID provided by the user\n",
    "        \n",
    "        Removes nothing if the user provides an invalid track ID\n",
    "        \"\"\"\n",
    "        for track in self.tracks:\n",
    "            if track.id == track_id:\n",
    "                self.tracks.remove(track)\n",
    "                self._time -= int(track.time.in_seconds())\n",
    "\n",
    "    def shuffle_playlist(self):\n",
    "        \"\"\"Shuffles the playlist\"\"\"\n",
    "        # using Fisher–Yates shuffle Algorithm to shuffle a list\n",
    "        for i in range(len(self.tracks)-1, 0, -1):\n",
    "            \n",
    "            # Pick a random index from 0 to i\n",
    "            j = random.randint(0, i)\n",
    "        \n",
    "            # Swap arr[i] with the element at random index\n",
    "            self.tracks[i], self.tracks[j] = self.tracks[j], self.tracks[i]\n",
    "\n",
    "    def sort_playlist(self):\n",
    "        \"\"\"Sorts the playlist based on the artist name and song title\"\"\"\n",
    "        self.tracks.sort(key=lambda x: (x.artist, x.title))\n",
    "\n",
    "\n",
    "class Track():\n",
    "    def __init__(self, id, artist, title, time):\n",
    "        self.id = id\n",
    "        self.artist = artist\n",
    "        self.title = title\n",
    "        self.time = time\n",
    "\n",
    "    def __lt__(self, other):\n",
    "        return int(self.time.in_seconds()) < int(other.time.in_seconds())\n",
    "\n",
    "    def __repr__(self):\n",
    "        \"\"\"Representation of a Track object\"\"\"\n",
    "        the_rep = \"Track ID: \" + self.id + \"\\nArtist: \" + self.artist + \"\\nTitle: \" + self.title + \"\\nTime: \" + str(self.time)\n",
    "        return the_rep\n",
    "\n",
    "\n",
    "class TimeMS():\n",
    "    def __init__(self, time):\n",
    "        if \":\" in str(time):\n",
    "            self.min_to_sec(time)\n",
    "        \n",
    "        else:\n",
    "            self.sec_to_min(time)\n",
    "\n",
    "    def min_to_sec(self, time):\n",
    "        \"\"\"First represent time as minutes, then convert this value to seconds for the seconds representation\n",
    "        \n",
    "        Assigns time to the minutes representation\n",
    "        Splits the minutes up into it's two components, the minute component and the second component (EG: 21 minutes and 37 seconds)\n",
    "        Converts the minutes component to seconds by multiplying by 60, then adds the seconds component to get seconds representation\n",
    "        \"\"\"\n",
    "        self._full_mins = time\n",
    "        self._full_mins_split = time.split(\":\")\n",
    "        self._min_split, self._sec_split = self._full_mins_split[0], self._full_mins_split[1]\n",
    "        self._full_seconds = (int(self._min_split) * 60) + int(self._sec_split)\n",
    "\n",
    "    def sec_to_min(self, time):\n",
    "        \"\"\"First represent the time as seconds, then convert this value to minutes for the minutes representation\n",
    "        \n",
    "        Assigns time to the seconds representation\n",
    "        Creates two variables, one representing the minutes component (initially 0) and one representing the seconds component (initially the seconds representation)\n",
    "        Since the seconds cannot be greater than or equal to 60 in the minutes representation, loop through the seconds component while it is greater than or equal to 60\n",
    "        On each loop iteration, subtracts 60 from the seconds component and increments the minutes component by 1\n",
    "        Uses an if statement to allow for the situation where the seconds component is a single digit number by prefixing zero in front of the seconds component\n",
    "        Once both components are correct, concatenate them and assign this concatenation to the minutes representation\n",
    "        \"\"\"\n",
    "        self._full_seconds = time\n",
    "        self._sec_split = int(self._full_seconds)\n",
    "        self._min_split = 0\n",
    "        while self._sec_split >= 60:\n",
    "            self._sec_split -= 60\n",
    "            self._min_split += 1\n",
    "\n",
    "        if len(str(self._sec_split)) == 1:\n",
    "            self._sec_split = \"0\" + str(self._sec_split)\n",
    "            \n",
    "        else:\n",
    "            self._sec_split = str(self._sec_split)\n",
    "\n",
    "        self._full_mins = str(self._min_split) + \":\" + self._sec_split\n",
    "\n",
    "    def in_seconds(self):\n",
    "        \"\"\"Gets the seconds representation\"\"\"\n",
    "        return self._full_seconds\n",
    "\n",
    "    def __lt__(self, other):\n",
    "        \"\"\"Determines the behaviour of the < operator when dealing with members of the TimeMS class\"\"\"\n",
    "        return self._full_seconds < other._full_seconds\n",
    "\n",
    "    def __repr__(self):\n",
    "        \"\"\"Default representation of a TimeMS object will be in minutes\"\"\"\n",
    "        return self._full_mins\n",
    "\n"
   ]
  },
  {
   "cell_type": "markdown",
   "metadata": {},
   "source": [
    "# Testing"
   ]
  },
  {
   "cell_type": "code",
   "execution_count": 154,
   "metadata": {},
   "outputs": [
    {
     "name": "stdout",
     "output_type": "stream",
     "text": [
      "music.csv\n"
     ]
    }
   ],
   "source": [
    "tlist = FullTrackList(\"music.csv\")\n",
    "print(tlist.get_filename())"
   ]
  },
  {
   "cell_type": "code",
   "execution_count": 155,
   "metadata": {},
   "outputs": [
    {
     "name": "stdout",
     "output_type": "stream",
     "text": [
      "Playing Time: 11:50\n",
      "\t1\tTaylor Swift: Everything Has Changed\n",
      "\t2\tMumford and Sons: Little Lion Man\n",
      "\t3\tHozier: Sedated\n"
     ]
    }
   ],
   "source": [
    "pl = Playlist([\"1\", \"2\", \"3\"], tlist)\n",
    "pl.show_playlist()"
   ]
  },
  {
   "cell_type": "code",
   "execution_count": 156,
   "metadata": {},
   "outputs": [
    {
     "name": "stdout",
     "output_type": "stream",
     "text": [
      "Playing Time: 22:05\n",
      "\t1\tTaylor Swift: Everything Has Changed\n",
      "\t2\tMumford and Sons: Little Lion Man\n",
      "\t3\tHozier: Sedated\n",
      "\t7\tHozier: Jackie and Wilson\n",
      "\t8\tHozier: Take Me To Church\n",
      "\t12\tMiley Cyrus: Jolene\n"
     ]
    }
   ],
   "source": [
    "pl.add_track(\"7\")\n",
    "pl.add_track(\"8\")\n",
    "pl.add_track(\"12\")\n",
    "pl.show_playlist()"
   ]
  },
  {
   "cell_type": "code",
   "execution_count": 157,
   "metadata": {},
   "outputs": [
    {
     "name": "stdout",
     "output_type": "stream",
     "text": [
      "Playing Time: 21:37\n",
      "\t13\tFlorence + The Machine: Dog Days are Over\n",
      "\t8\tHozier: Take Me To Church\n",
      "\t12\tMiley Cyrus: Jolene\n",
      "\t3\tHozier: Sedated\n",
      "\t7\tHozier: Jackie and Wilson\n",
      "\t2\tMumford and Sons: Little Lion Man\n"
     ]
    }
   ],
   "source": [
    "pl.add_track(\"13\")\n",
    "pl.remove_track(\"1\")\n",
    "pl.shuffle_playlist()\n",
    "pl.show_playlist()"
   ]
  },
  {
   "cell_type": "code",
   "execution_count": 158,
   "metadata": {},
   "outputs": [
    {
     "name": "stdout",
     "output_type": "stream",
     "text": [
      "Playing Time: 21:37\n",
      "\t13\tFlorence + The Machine: Dog Days are Over\n",
      "\t7\tHozier: Jackie and Wilson\n",
      "\t3\tHozier: Sedated\n",
      "\t8\tHozier: Take Me To Church\n",
      "\t12\tMiley Cyrus: Jolene\n",
      "\t2\tMumford and Sons: Little Lion Man\n"
     ]
    }
   ],
   "source": [
    "pl.sort_playlist()\n",
    "pl.show_playlist()"
   ]
  },
  {
   "cell_type": "code",
   "execution_count": 159,
   "metadata": {},
   "outputs": [
    {
     "data": {
      "text/plain": [
       "2:20"
      ]
     },
     "execution_count": 159,
     "metadata": {},
     "output_type": "execute_result"
    }
   ],
   "source": [
    "time_1 = TimeMS(140)\n",
    "time_1"
   ]
  }
 ],
 "metadata": {
  "interpreter": {
   "hash": "54e72497fd64358f52832107e3cdfaf9f975ee2964d8f26ed128ba56fc24de73"
  },
  "kernelspec": {
   "display_name": "Python 3.8.8 64-bit ('base': conda)",
   "language": "python",
   "name": "python3"
  },
  "language_info": {
   "codemirror_mode": {
    "name": "ipython",
    "version": 3
   },
   "file_extension": ".py",
   "mimetype": "text/x-python",
   "name": "python",
   "nbconvert_exporter": "python",
   "pygments_lexer": "ipython3",
   "version": "3.10.0"
  },
  "orig_nbformat": 4
 },
 "nbformat": 4,
 "nbformat_minor": 2
}
